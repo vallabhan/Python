{
  "nbformat": 4,
  "nbformat_minor": 0,
  "metadata": {
    "colab": {
      "name": "Untitled0.ipynb",
      "provenance": [],
      "toc_visible": true,
      "authorship_tag": "ABX9TyPwIgAkbINhj3gydmzADJvY"
    },
    "kernelspec": {
      "name": "python3",
      "display_name": "Python 3"
    }
  },
  "cells": [
    {
      "cell_type": "code",
      "metadata": {
        "colab": {
          "base_uri": "https://localhost:8080/"
        },
        "id": "Twh_l75X8EHH",
        "outputId": "185fdbd8-0f60-4209-a6f1-228c96736087"
      },
      "source": [
        "!pip install google_trans_new"
      ],
      "execution_count": 52,
      "outputs": [
        {
          "output_type": "stream",
          "text": [
            "Collecting google_trans_new\n",
            "  Downloading https://files.pythonhosted.org/packages/f9/7b/9f136106dc5824dc98185c97991d3cd9b53e70a197154dd49f7b899128f6/google_trans_new-1.1.9-py3-none-any.whl\n",
            "Installing collected packages: google-trans-new\n",
            "Successfully installed google-trans-new-1.1.9\n"
          ],
          "name": "stdout"
        }
      ]
    },
    {
      "cell_type": "code",
      "metadata": {
        "id": "uPTL1gAt7ne9"
      },
      "source": [
        "import pandas as pd\r\n",
        "import googletrans\r\n",
        "import matplotlib.pyplot as plt\r\n",
        "plt.rcdefaults()"
      ],
      "execution_count": 3,
      "outputs": []
    },
    {
      "cell_type": "code",
      "metadata": {
        "id": "VBD6CXd98L0X"
      },
      "source": [
        "data=pd.read_csv(r'/content/amazon.csv',thousands='.',engine='python')"
      ],
      "execution_count": 5,
      "outputs": []
    },
    {
      "cell_type": "code",
      "metadata": {
        "colab": {
          "base_uri": "https://localhost:8080/"
        },
        "id": "hBD9ADVe8_gO",
        "outputId": "7c486df9-4621-4256-cac6-670a330feb3a"
      },
      "source": [
        "data.shape"
      ],
      "execution_count": 6,
      "outputs": [
        {
          "output_type": "execute_result",
          "data": {
            "text/plain": [
              "(6454, 5)"
            ]
          },
          "metadata": {
            "tags": []
          },
          "execution_count": 6
        }
      ]
    },
    {
      "cell_type": "code",
      "metadata": {
        "colab": {
          "base_uri": "https://localhost:8080/",
          "height": 195
        },
        "id": "1eldx_Oo9CnY",
        "outputId": "ec4872d8-e22d-4b91-e3e4-81034f5dd3b8"
      },
      "source": [
        "data.head()"
      ],
      "execution_count": 20,
      "outputs": [
        {
          "output_type": "execute_result",
          "data": {
            "text/html": [
              "<div>\n",
              "<style scoped>\n",
              "    .dataframe tbody tr th:only-of-type {\n",
              "        vertical-align: middle;\n",
              "    }\n",
              "\n",
              "    .dataframe tbody tr th {\n",
              "        vertical-align: top;\n",
              "    }\n",
              "\n",
              "    .dataframe thead th {\n",
              "        text-align: right;\n",
              "    }\n",
              "</style>\n",
              "<table border=\"1\" class=\"dataframe\">\n",
              "  <thead>\n",
              "    <tr style=\"text-align: right;\">\n",
              "      <th></th>\n",
              "      <th>year</th>\n",
              "      <th>state</th>\n",
              "      <th>month</th>\n",
              "      <th>number</th>\n",
              "      <th>date</th>\n",
              "    </tr>\n",
              "  </thead>\n",
              "  <tbody>\n",
              "    <tr>\n",
              "      <th>0</th>\n",
              "      <td>1998</td>\n",
              "      <td>Acre</td>\n",
              "      <td>Janeiro</td>\n",
              "      <td>NaN</td>\n",
              "      <td>1998-01-01</td>\n",
              "    </tr>\n",
              "    <tr>\n",
              "      <th>1</th>\n",
              "      <td>1999</td>\n",
              "      <td>Acre</td>\n",
              "      <td>Janeiro</td>\n",
              "      <td>NaN</td>\n",
              "      <td>1999-01-01</td>\n",
              "    </tr>\n",
              "    <tr>\n",
              "      <th>2</th>\n",
              "      <td>2000</td>\n",
              "      <td>Acre</td>\n",
              "      <td>Janeiro</td>\n",
              "      <td>NaN</td>\n",
              "      <td>2000-01-01</td>\n",
              "    </tr>\n",
              "    <tr>\n",
              "      <th>3</th>\n",
              "      <td>2001</td>\n",
              "      <td>Acre</td>\n",
              "      <td>Janeiro</td>\n",
              "      <td>NaN</td>\n",
              "      <td>2001-01-01</td>\n",
              "    </tr>\n",
              "    <tr>\n",
              "      <th>4</th>\n",
              "      <td>2002</td>\n",
              "      <td>Acre</td>\n",
              "      <td>Janeiro</td>\n",
              "      <td>NaN</td>\n",
              "      <td>2002-01-01</td>\n",
              "    </tr>\n",
              "  </tbody>\n",
              "</table>\n",
              "</div>"
            ],
            "text/plain": [
              "   year state    month  number        date\n",
              "0  1998  Acre  Janeiro     NaN  1998-01-01\n",
              "1  1999  Acre  Janeiro     NaN  1999-01-01\n",
              "2  2000  Acre  Janeiro     NaN  2000-01-01\n",
              "3  2001  Acre  Janeiro     NaN  2001-01-01\n",
              "4  2002  Acre  Janeiro     NaN  2002-01-01"
            ]
          },
          "metadata": {
            "tags": []
          },
          "execution_count": 20
        }
      ]
    },
    {
      "cell_type": "code",
      "metadata": {
        "colab": {
          "base_uri": "https://localhost:8080/",
          "height": 373
        },
        "id": "ybQt5jWu9GQI",
        "outputId": "f2a215d0-2fbc-4419-b62d-e471a6e5fc2f"
      },
      "source": [
        "data.describe(include='all')"
      ],
      "execution_count": 21,
      "outputs": [
        {
          "output_type": "execute_result",
          "data": {
            "text/html": [
              "<div>\n",
              "<style scoped>\n",
              "    .dataframe tbody tr th:only-of-type {\n",
              "        vertical-align: middle;\n",
              "    }\n",
              "\n",
              "    .dataframe tbody tr th {\n",
              "        vertical-align: top;\n",
              "    }\n",
              "\n",
              "    .dataframe thead th {\n",
              "        text-align: right;\n",
              "    }\n",
              "</style>\n",
              "<table border=\"1\" class=\"dataframe\">\n",
              "  <thead>\n",
              "    <tr style=\"text-align: right;\">\n",
              "      <th></th>\n",
              "      <th>year</th>\n",
              "      <th>state</th>\n",
              "      <th>month</th>\n",
              "      <th>number</th>\n",
              "      <th>date</th>\n",
              "    </tr>\n",
              "  </thead>\n",
              "  <tbody>\n",
              "    <tr>\n",
              "      <th>count</th>\n",
              "      <td>6454.000000</td>\n",
              "      <td>6454</td>\n",
              "      <td>6454</td>\n",
              "      <td>5837.000000</td>\n",
              "      <td>6454</td>\n",
              "    </tr>\n",
              "    <tr>\n",
              "      <th>unique</th>\n",
              "      <td>NaN</td>\n",
              "      <td>23</td>\n",
              "      <td>12</td>\n",
              "      <td>NaN</td>\n",
              "      <td>20</td>\n",
              "    </tr>\n",
              "    <tr>\n",
              "      <th>top</th>\n",
              "      <td>NaN</td>\n",
              "      <td>Rio</td>\n",
              "      <td>Janeiro</td>\n",
              "      <td>NaN</td>\n",
              "      <td>2009-01-01</td>\n",
              "    </tr>\n",
              "    <tr>\n",
              "      <th>freq</th>\n",
              "      <td>NaN</td>\n",
              "      <td>717</td>\n",
              "      <td>541</td>\n",
              "      <td>NaN</td>\n",
              "      <td>324</td>\n",
              "    </tr>\n",
              "    <tr>\n",
              "      <th>mean</th>\n",
              "      <td>2007.461729</td>\n",
              "      <td>NaN</td>\n",
              "      <td>NaN</td>\n",
              "      <td>577.947918</td>\n",
              "      <td>NaN</td>\n",
              "    </tr>\n",
              "    <tr>\n",
              "      <th>std</th>\n",
              "      <td>5.746654</td>\n",
              "      <td>NaN</td>\n",
              "      <td>NaN</td>\n",
              "      <td>1625.176973</td>\n",
              "      <td>NaN</td>\n",
              "    </tr>\n",
              "    <tr>\n",
              "      <th>min</th>\n",
              "      <td>1998.000000</td>\n",
              "      <td>NaN</td>\n",
              "      <td>NaN</td>\n",
              "      <td>1.000000</td>\n",
              "      <td>NaN</td>\n",
              "    </tr>\n",
              "    <tr>\n",
              "      <th>25%</th>\n",
              "      <td>2002.000000</td>\n",
              "      <td>NaN</td>\n",
              "      <td>NaN</td>\n",
              "      <td>16.000000</td>\n",
              "      <td>NaN</td>\n",
              "    </tr>\n",
              "    <tr>\n",
              "      <th>50%</th>\n",
              "      <td>2007.000000</td>\n",
              "      <td>NaN</td>\n",
              "      <td>NaN</td>\n",
              "      <td>72.000000</td>\n",
              "      <td>NaN</td>\n",
              "    </tr>\n",
              "    <tr>\n",
              "      <th>75%</th>\n",
              "      <td>2012.000000</td>\n",
              "      <td>NaN</td>\n",
              "      <td>NaN</td>\n",
              "      <td>334.000000</td>\n",
              "      <td>NaN</td>\n",
              "    </tr>\n",
              "    <tr>\n",
              "      <th>max</th>\n",
              "      <td>2017.000000</td>\n",
              "      <td>NaN</td>\n",
              "      <td>NaN</td>\n",
              "      <td>25963.000000</td>\n",
              "      <td>NaN</td>\n",
              "    </tr>\n",
              "  </tbody>\n",
              "</table>\n",
              "</div>"
            ],
            "text/plain": [
              "               year state    month        number        date\n",
              "count   6454.000000  6454     6454   5837.000000        6454\n",
              "unique          NaN    23       12           NaN          20\n",
              "top             NaN   Rio  Janeiro           NaN  2009-01-01\n",
              "freq            NaN   717      541           NaN         324\n",
              "mean    2007.461729   NaN      NaN    577.947918         NaN\n",
              "std        5.746654   NaN      NaN   1625.176973         NaN\n",
              "min     1998.000000   NaN      NaN      1.000000         NaN\n",
              "25%     2002.000000   NaN      NaN     16.000000         NaN\n",
              "50%     2007.000000   NaN      NaN     72.000000         NaN\n",
              "75%     2012.000000   NaN      NaN    334.000000         NaN\n",
              "max     2017.000000   NaN      NaN  25963.000000         NaN"
            ]
          },
          "metadata": {
            "tags": []
          },
          "execution_count": 21
        }
      ]
    },
    {
      "cell_type": "code",
      "metadata": {
        "colab": {
          "base_uri": "https://localhost:8080/"
        },
        "id": "-FgTUFEm9PP2",
        "outputId": "721c598d-f233-47f1-dc1d-d0d97d006eed"
      },
      "source": [
        "data.isna().sum()"
      ],
      "execution_count": 22,
      "outputs": [
        {
          "output_type": "execute_result",
          "data": {
            "text/plain": [
              "year        0\n",
              "state       0\n",
              "month       0\n",
              "number    617\n",
              "date        0\n",
              "dtype: int64"
            ]
          },
          "metadata": {
            "tags": []
          },
          "execution_count": 22
        }
      ]
    },
    {
      "cell_type": "code",
      "metadata": {
        "id": "3SyMMAAH9jVj"
      },
      "source": [
        "import numpy as np"
      ],
      "execution_count": 23,
      "outputs": []
    },
    {
      "cell_type": "code",
      "metadata": {
        "id": "IYzaRxw49WyA"
      },
      "source": [
        "data=data.replace(0,np.nan)\r\n",
        "data2=data.dropna(subset=['number'])"
      ],
      "execution_count": 24,
      "outputs": []
    },
    {
      "cell_type": "code",
      "metadata": {
        "colab": {
          "base_uri": "https://localhost:8080/",
          "height": 373
        },
        "id": "VL9Jo4qJ9p_6",
        "outputId": "b590c456-ada1-46f0-a219-011b688d5b57"
      },
      "source": [
        "data2.describe(include='all')"
      ],
      "execution_count": 25,
      "outputs": [
        {
          "output_type": "execute_result",
          "data": {
            "text/html": [
              "<div>\n",
              "<style scoped>\n",
              "    .dataframe tbody tr th:only-of-type {\n",
              "        vertical-align: middle;\n",
              "    }\n",
              "\n",
              "    .dataframe tbody tr th {\n",
              "        vertical-align: top;\n",
              "    }\n",
              "\n",
              "    .dataframe thead th {\n",
              "        text-align: right;\n",
              "    }\n",
              "</style>\n",
              "<table border=\"1\" class=\"dataframe\">\n",
              "  <thead>\n",
              "    <tr style=\"text-align: right;\">\n",
              "      <th></th>\n",
              "      <th>year</th>\n",
              "      <th>state</th>\n",
              "      <th>month</th>\n",
              "      <th>number</th>\n",
              "      <th>date</th>\n",
              "    </tr>\n",
              "  </thead>\n",
              "  <tbody>\n",
              "    <tr>\n",
              "      <th>count</th>\n",
              "      <td>5837.000000</td>\n",
              "      <td>5837</td>\n",
              "      <td>5837</td>\n",
              "      <td>5837.000000</td>\n",
              "      <td>5837</td>\n",
              "    </tr>\n",
              "    <tr>\n",
              "      <th>unique</th>\n",
              "      <td>NaN</td>\n",
              "      <td>23</td>\n",
              "      <td>12</td>\n",
              "      <td>NaN</td>\n",
              "      <td>20</td>\n",
              "    </tr>\n",
              "    <tr>\n",
              "      <th>top</th>\n",
              "      <td>NaN</td>\n",
              "      <td>Rio</td>\n",
              "      <td>Outubro</td>\n",
              "      <td>NaN</td>\n",
              "      <td>2016-01-01</td>\n",
              "    </tr>\n",
              "    <tr>\n",
              "      <th>freq</th>\n",
              "      <td>NaN</td>\n",
              "      <td>661</td>\n",
              "      <td>534</td>\n",
              "      <td>NaN</td>\n",
              "      <td>317</td>\n",
              "    </tr>\n",
              "    <tr>\n",
              "      <th>mean</th>\n",
              "      <td>2007.834847</td>\n",
              "      <td>NaN</td>\n",
              "      <td>NaN</td>\n",
              "      <td>577.947918</td>\n",
              "      <td>NaN</td>\n",
              "    </tr>\n",
              "    <tr>\n",
              "      <th>std</th>\n",
              "      <td>5.649076</td>\n",
              "      <td>NaN</td>\n",
              "      <td>NaN</td>\n",
              "      <td>1625.176973</td>\n",
              "      <td>NaN</td>\n",
              "    </tr>\n",
              "    <tr>\n",
              "      <th>min</th>\n",
              "      <td>1998.000000</td>\n",
              "      <td>NaN</td>\n",
              "      <td>NaN</td>\n",
              "      <td>1.000000</td>\n",
              "      <td>NaN</td>\n",
              "    </tr>\n",
              "    <tr>\n",
              "      <th>25%</th>\n",
              "      <td>2003.000000</td>\n",
              "      <td>NaN</td>\n",
              "      <td>NaN</td>\n",
              "      <td>16.000000</td>\n",
              "      <td>NaN</td>\n",
              "    </tr>\n",
              "    <tr>\n",
              "      <th>50%</th>\n",
              "      <td>2008.000000</td>\n",
              "      <td>NaN</td>\n",
              "      <td>NaN</td>\n",
              "      <td>72.000000</td>\n",
              "      <td>NaN</td>\n",
              "    </tr>\n",
              "    <tr>\n",
              "      <th>75%</th>\n",
              "      <td>2013.000000</td>\n",
              "      <td>NaN</td>\n",
              "      <td>NaN</td>\n",
              "      <td>334.000000</td>\n",
              "      <td>NaN</td>\n",
              "    </tr>\n",
              "    <tr>\n",
              "      <th>max</th>\n",
              "      <td>2017.000000</td>\n",
              "      <td>NaN</td>\n",
              "      <td>NaN</td>\n",
              "      <td>25963.000000</td>\n",
              "      <td>NaN</td>\n",
              "    </tr>\n",
              "  </tbody>\n",
              "</table>\n",
              "</div>"
            ],
            "text/plain": [
              "               year state    month        number        date\n",
              "count   5837.000000  5837     5837   5837.000000        5837\n",
              "unique          NaN    23       12           NaN          20\n",
              "top             NaN   Rio  Outubro           NaN  2016-01-01\n",
              "freq            NaN   661      534           NaN         317\n",
              "mean    2007.834847   NaN      NaN    577.947918         NaN\n",
              "std        5.649076   NaN      NaN   1625.176973         NaN\n",
              "min     1998.000000   NaN      NaN      1.000000         NaN\n",
              "25%     2003.000000   NaN      NaN     16.000000         NaN\n",
              "50%     2008.000000   NaN      NaN     72.000000         NaN\n",
              "75%     2013.000000   NaN      NaN    334.000000         NaN\n",
              "max     2017.000000   NaN      NaN  25963.000000         NaN"
            ]
          },
          "metadata": {
            "tags": []
          },
          "execution_count": 25
        }
      ]
    },
    {
      "cell_type": "code",
      "metadata": {
        "id": "hIp3gZkX9nbT"
      },
      "source": [
        "forest_fire_per_month = data2.groupby('month')['number'].sum()"
      ],
      "execution_count": 26,
      "outputs": []
    },
    {
      "cell_type": "code",
      "metadata": {
        "colab": {
          "base_uri": "https://localhost:8080/"
        },
        "id": "yRIjBJYy-CsH",
        "outputId": "d9f5fa94-3374-43c9-8d92-24206eb775da"
      },
      "source": [
        "print(forest_fire_per_month)"
      ],
      "execution_count": 27,
      "outputs": [
        {
          "output_type": "stream",
          "text": [
            "month\n",
            "Abril          28364.0\n",
            "Agosto        740841.0\n",
            "Dezembro      152596.0\n",
            "Fevereiro      30952.0\n",
            "Janeiro        52587.0\n",
            "Julho         217620.0\n",
            "Junho         111405.0\n",
            "Maio           46083.0\n",
            "Mar�o          35118.0\n",
            "Novembro      312326.0\n",
            "Outubro       629665.0\n",
            "Setembro     1015925.0\n",
            "Name: number, dtype: float64\n"
          ],
          "name": "stdout"
        }
      ]
    },
    {
      "cell_type": "code",
      "metadata": {
        "colab": {
          "base_uri": "https://localhost:8080/"
        },
        "id": "XIeZHXriximX",
        "outputId": "ec75ecd3-49e6-45d4-f923-5777d8f0d4f8"
      },
      "source": [
        "months_unique = list(data.month.unique())\r\n",
        "months_unique"
      ],
      "execution_count": 32,
      "outputs": [
        {
          "output_type": "execute_result",
          "data": {
            "text/plain": [
              "['Janeiro',\n",
              " 'Fevereiro',\n",
              " 'Mar�o',\n",
              " 'Abril',\n",
              " 'Maio',\n",
              " 'Junho',\n",
              " 'Julho',\n",
              " 'Agosto',\n",
              " 'Setembro',\n",
              " 'Outubro',\n",
              " 'Novembro',\n",
              " 'Dezembro']"
            ]
          },
          "metadata": {
            "tags": []
          },
          "execution_count": 32
        }
      ]
    },
    {
      "cell_type": "code",
      "metadata": {
        "colab": {
          "base_uri": "https://localhost:8080/",
          "height": 225
        },
        "id": "-VbcGd7Q-G9l",
        "outputId": "82f09be4-3ba7-48f8-f2a0-a55a0227594f"
      },
      "source": [
        "months_unique = list(data.month.unique())\r\n",
        "forest_fire_per_month = forest_fire_per_month.reindex(months_unique, axis=0)\r\n",
        "forest_fire_per_month = forest_fire_per_month.to_frame()\r\n",
        "forest_fire_per_month.head()"
      ],
      "execution_count": 28,
      "outputs": [
        {
          "output_type": "execute_result",
          "data": {
            "text/html": [
              "<div>\n",
              "<style scoped>\n",
              "    .dataframe tbody tr th:only-of-type {\n",
              "        vertical-align: middle;\n",
              "    }\n",
              "\n",
              "    .dataframe tbody tr th {\n",
              "        vertical-align: top;\n",
              "    }\n",
              "\n",
              "    .dataframe thead th {\n",
              "        text-align: right;\n",
              "    }\n",
              "</style>\n",
              "<table border=\"1\" class=\"dataframe\">\n",
              "  <thead>\n",
              "    <tr style=\"text-align: right;\">\n",
              "      <th></th>\n",
              "      <th>number</th>\n",
              "    </tr>\n",
              "    <tr>\n",
              "      <th>month</th>\n",
              "      <th></th>\n",
              "    </tr>\n",
              "  </thead>\n",
              "  <tbody>\n",
              "    <tr>\n",
              "      <th>Janeiro</th>\n",
              "      <td>52587.0</td>\n",
              "    </tr>\n",
              "    <tr>\n",
              "      <th>Fevereiro</th>\n",
              "      <td>30952.0</td>\n",
              "    </tr>\n",
              "    <tr>\n",
              "      <th>Mar�o</th>\n",
              "      <td>35118.0</td>\n",
              "    </tr>\n",
              "    <tr>\n",
              "      <th>Abril</th>\n",
              "      <td>28364.0</td>\n",
              "    </tr>\n",
              "    <tr>\n",
              "      <th>Maio</th>\n",
              "      <td>46083.0</td>\n",
              "    </tr>\n",
              "  </tbody>\n",
              "</table>\n",
              "</div>"
            ],
            "text/plain": [
              "            number\n",
              "month             \n",
              "Janeiro    52587.0\n",
              "Fevereiro  30952.0\n",
              "Mar�o      35118.0\n",
              "Abril      28364.0\n",
              "Maio       46083.0"
            ]
          },
          "metadata": {
            "tags": []
          },
          "execution_count": 28
        }
      ]
    },
    {
      "cell_type": "code",
      "metadata": {
        "colab": {
          "base_uri": "https://localhost:8080/",
          "height": 195
        },
        "id": "IiIrAnLm-XTl",
        "outputId": "f7a9b4e9-2aa7-40b6-bff7-74153104772e"
      },
      "source": [
        "forest_fire_per_month.reset_index(level=0, inplace=True)\r\n",
        "forest_fire_per_month.head()"
      ],
      "execution_count": 29,
      "outputs": [
        {
          "output_type": "execute_result",
          "data": {
            "text/html": [
              "<div>\n",
              "<style scoped>\n",
              "    .dataframe tbody tr th:only-of-type {\n",
              "        vertical-align: middle;\n",
              "    }\n",
              "\n",
              "    .dataframe tbody tr th {\n",
              "        vertical-align: top;\n",
              "    }\n",
              "\n",
              "    .dataframe thead th {\n",
              "        text-align: right;\n",
              "    }\n",
              "</style>\n",
              "<table border=\"1\" class=\"dataframe\">\n",
              "  <thead>\n",
              "    <tr style=\"text-align: right;\">\n",
              "      <th></th>\n",
              "      <th>month</th>\n",
              "      <th>number</th>\n",
              "    </tr>\n",
              "  </thead>\n",
              "  <tbody>\n",
              "    <tr>\n",
              "      <th>0</th>\n",
              "      <td>Janeiro</td>\n",
              "      <td>52587.0</td>\n",
              "    </tr>\n",
              "    <tr>\n",
              "      <th>1</th>\n",
              "      <td>Fevereiro</td>\n",
              "      <td>30952.0</td>\n",
              "    </tr>\n",
              "    <tr>\n",
              "      <th>2</th>\n",
              "      <td>Mar�o</td>\n",
              "      <td>35118.0</td>\n",
              "    </tr>\n",
              "    <tr>\n",
              "      <th>3</th>\n",
              "      <td>Abril</td>\n",
              "      <td>28364.0</td>\n",
              "    </tr>\n",
              "    <tr>\n",
              "      <th>4</th>\n",
              "      <td>Maio</td>\n",
              "      <td>46083.0</td>\n",
              "    </tr>\n",
              "  </tbody>\n",
              "</table>\n",
              "</div>"
            ],
            "text/plain": [
              "       month   number\n",
              "0    Janeiro  52587.0\n",
              "1  Fevereiro  30952.0\n",
              "2      Mar�o  35118.0\n",
              "3      Abril  28364.0\n",
              "4       Maio  46083.0"
            ]
          },
          "metadata": {
            "tags": []
          },
          "execution_count": 29
        }
      ]
    },
    {
      "cell_type": "code",
      "metadata": {
        "id": "aGX84qh31o74"
      },
      "source": [
        "from google_trans_new import google_translator  \r\n",
        "translator = google_translator()"
      ],
      "execution_count": 56,
      "outputs": []
    },
    {
      "cell_type": "code",
      "metadata": {
        "colab": {
          "base_uri": "https://localhost:8080/"
        },
        "id": "ohopd6X45pOI",
        "outputId": "bf8d2c7c-a6d2-4c4e-fef5-9cfcc35ac186"
      },
      "source": [
        "for month in months_unique: \r\n",
        "    detected = translator.detect(month)     \r\n",
        "    translated = translator.translate(month)     \r\n",
        "    print(detected)     \r\n",
        "    print(translated)     \r\n",
        "    print(\"...\")"
      ],
      "execution_count": 57,
      "outputs": [
        {
          "output_type": "stream",
          "text": [
            "['pt', 'portuguese']\n",
            "January \n",
            "...\n",
            "['pt', 'portuguese']\n",
            "February \n",
            "...\n",
            "['zh-CN', 'chinese (simplified)']\n",
            "Mar�o \n",
            "...\n",
            "['es', 'spanish']\n",
            "April \n",
            "...\n",
            "['pt', 'portuguese']\n",
            "May \n",
            "...\n",
            "['pt', 'portuguese']\n",
            "June \n",
            "...\n",
            "['pt', 'portuguese']\n",
            "July \n",
            "...\n",
            "['es', 'spanish']\n",
            "August \n",
            "...\n",
            "['pt', 'portuguese']\n",
            "September \n",
            "...\n",
            "['pt', 'portuguese']\n",
            "October \n",
            "...\n",
            "['pt', 'portuguese']\n",
            "November \n",
            "...\n",
            "['pt', 'portuguese']\n",
            "December \n",
            "...\n"
          ],
          "name": "stdout"
        }
      ]
    },
    {
      "cell_type": "code",
      "metadata": {
        "colab": {
          "base_uri": "https://localhost:8080/",
          "height": 402
        },
        "id": "LyvCTx_w7L99",
        "outputId": "7ee139d3-0a82-4124-b0dd-c50094c15c96"
      },
      "source": [
        "forest_fire_per_month['Month'] = forest_fire_per_month['month'].apply(translator.translate)\r\n",
        "forest_fire_per_month"
      ],
      "execution_count": 61,
      "outputs": [
        {
          "output_type": "execute_result",
          "data": {
            "text/html": [
              "<div>\n",
              "<style scoped>\n",
              "    .dataframe tbody tr th:only-of-type {\n",
              "        vertical-align: middle;\n",
              "    }\n",
              "\n",
              "    .dataframe tbody tr th {\n",
              "        vertical-align: top;\n",
              "    }\n",
              "\n",
              "    .dataframe thead th {\n",
              "        text-align: right;\n",
              "    }\n",
              "</style>\n",
              "<table border=\"1\" class=\"dataframe\">\n",
              "  <thead>\n",
              "    <tr style=\"text-align: right;\">\n",
              "      <th></th>\n",
              "      <th>month</th>\n",
              "      <th>number</th>\n",
              "      <th>Month</th>\n",
              "    </tr>\n",
              "  </thead>\n",
              "  <tbody>\n",
              "    <tr>\n",
              "      <th>0</th>\n",
              "      <td>Janeiro</td>\n",
              "      <td>52587.0</td>\n",
              "      <td>January</td>\n",
              "    </tr>\n",
              "    <tr>\n",
              "      <th>1</th>\n",
              "      <td>Fevereiro</td>\n",
              "      <td>30952.0</td>\n",
              "      <td>February</td>\n",
              "    </tr>\n",
              "    <tr>\n",
              "      <th>2</th>\n",
              "      <td>Mar�o</td>\n",
              "      <td>35118.0</td>\n",
              "      <td>Mar�o</td>\n",
              "    </tr>\n",
              "    <tr>\n",
              "      <th>3</th>\n",
              "      <td>Abril</td>\n",
              "      <td>28364.0</td>\n",
              "      <td>April</td>\n",
              "    </tr>\n",
              "    <tr>\n",
              "      <th>4</th>\n",
              "      <td>Maio</td>\n",
              "      <td>46083.0</td>\n",
              "      <td>May</td>\n",
              "    </tr>\n",
              "    <tr>\n",
              "      <th>5</th>\n",
              "      <td>Junho</td>\n",
              "      <td>111405.0</td>\n",
              "      <td>June</td>\n",
              "    </tr>\n",
              "    <tr>\n",
              "      <th>6</th>\n",
              "      <td>Julho</td>\n",
              "      <td>217620.0</td>\n",
              "      <td>July</td>\n",
              "    </tr>\n",
              "    <tr>\n",
              "      <th>7</th>\n",
              "      <td>Agosto</td>\n",
              "      <td>740841.0</td>\n",
              "      <td>August</td>\n",
              "    </tr>\n",
              "    <tr>\n",
              "      <th>8</th>\n",
              "      <td>Setembro</td>\n",
              "      <td>1015925.0</td>\n",
              "      <td>September</td>\n",
              "    </tr>\n",
              "    <tr>\n",
              "      <th>9</th>\n",
              "      <td>Outubro</td>\n",
              "      <td>629665.0</td>\n",
              "      <td>October</td>\n",
              "    </tr>\n",
              "    <tr>\n",
              "      <th>10</th>\n",
              "      <td>Novembro</td>\n",
              "      <td>312326.0</td>\n",
              "      <td>November</td>\n",
              "    </tr>\n",
              "    <tr>\n",
              "      <th>11</th>\n",
              "      <td>Dezembro</td>\n",
              "      <td>152596.0</td>\n",
              "      <td>December</td>\n",
              "    </tr>\n",
              "  </tbody>\n",
              "</table>\n",
              "</div>"
            ],
            "text/plain": [
              "        month     number       Month\n",
              "0     Janeiro    52587.0    January \n",
              "1   Fevereiro    30952.0   February \n",
              "2       Mar�o    35118.0      Mar�o \n",
              "3       Abril    28364.0      April \n",
              "4        Maio    46083.0        May \n",
              "5       Junho   111405.0       June \n",
              "6       Julho   217620.0       July \n",
              "7      Agosto   740841.0     August \n",
              "8    Setembro  1015925.0  September \n",
              "9     Outubro   629665.0    October \n",
              "10   Novembro   312326.0   November \n",
              "11   Dezembro   152596.0   December "
            ]
          },
          "metadata": {
            "tags": []
          },
          "execution_count": 61
        }
      ]
    },
    {
      "cell_type": "code",
      "metadata": {
        "colab": {
          "base_uri": "https://localhost:8080/",
          "height": 402
        },
        "id": "Y7k-aGJY79tA",
        "outputId": "596b8bad-53cf-4262-c7d3-0bbbf78f034f"
      },
      "source": [
        "forest_fire_per_month=forest_fire_per_month.drop('month',axis=1)\r\n",
        "forest_fire_per_month"
      ],
      "execution_count": 62,
      "outputs": [
        {
          "output_type": "execute_result",
          "data": {
            "text/html": [
              "<div>\n",
              "<style scoped>\n",
              "    .dataframe tbody tr th:only-of-type {\n",
              "        vertical-align: middle;\n",
              "    }\n",
              "\n",
              "    .dataframe tbody tr th {\n",
              "        vertical-align: top;\n",
              "    }\n",
              "\n",
              "    .dataframe thead th {\n",
              "        text-align: right;\n",
              "    }\n",
              "</style>\n",
              "<table border=\"1\" class=\"dataframe\">\n",
              "  <thead>\n",
              "    <tr style=\"text-align: right;\">\n",
              "      <th></th>\n",
              "      <th>number</th>\n",
              "      <th>Month</th>\n",
              "    </tr>\n",
              "  </thead>\n",
              "  <tbody>\n",
              "    <tr>\n",
              "      <th>0</th>\n",
              "      <td>52587.0</td>\n",
              "      <td>January</td>\n",
              "    </tr>\n",
              "    <tr>\n",
              "      <th>1</th>\n",
              "      <td>30952.0</td>\n",
              "      <td>February</td>\n",
              "    </tr>\n",
              "    <tr>\n",
              "      <th>2</th>\n",
              "      <td>35118.0</td>\n",
              "      <td>Mar�o</td>\n",
              "    </tr>\n",
              "    <tr>\n",
              "      <th>3</th>\n",
              "      <td>28364.0</td>\n",
              "      <td>April</td>\n",
              "    </tr>\n",
              "    <tr>\n",
              "      <th>4</th>\n",
              "      <td>46083.0</td>\n",
              "      <td>May</td>\n",
              "    </tr>\n",
              "    <tr>\n",
              "      <th>5</th>\n",
              "      <td>111405.0</td>\n",
              "      <td>June</td>\n",
              "    </tr>\n",
              "    <tr>\n",
              "      <th>6</th>\n",
              "      <td>217620.0</td>\n",
              "      <td>July</td>\n",
              "    </tr>\n",
              "    <tr>\n",
              "      <th>7</th>\n",
              "      <td>740841.0</td>\n",
              "      <td>August</td>\n",
              "    </tr>\n",
              "    <tr>\n",
              "      <th>8</th>\n",
              "      <td>1015925.0</td>\n",
              "      <td>September</td>\n",
              "    </tr>\n",
              "    <tr>\n",
              "      <th>9</th>\n",
              "      <td>629665.0</td>\n",
              "      <td>October</td>\n",
              "    </tr>\n",
              "    <tr>\n",
              "      <th>10</th>\n",
              "      <td>312326.0</td>\n",
              "      <td>November</td>\n",
              "    </tr>\n",
              "    <tr>\n",
              "      <th>11</th>\n",
              "      <td>152596.0</td>\n",
              "      <td>December</td>\n",
              "    </tr>\n",
              "  </tbody>\n",
              "</table>\n",
              "</div>"
            ],
            "text/plain": [
              "       number       Month\n",
              "0     52587.0    January \n",
              "1     30952.0   February \n",
              "2     35118.0      Mar�o \n",
              "3     28364.0      April \n",
              "4     46083.0        May \n",
              "5    111405.0       June \n",
              "6    217620.0       July \n",
              "7    740841.0     August \n",
              "8   1015925.0  September \n",
              "9    629665.0    October \n",
              "10   312326.0   November \n",
              "11   152596.0   December "
            ]
          },
          "metadata": {
            "tags": []
          },
          "execution_count": 62
        }
      ]
    },
    {
      "cell_type": "code",
      "metadata": {
        "colab": {
          "base_uri": "https://localhost:8080/",
          "height": 1000
        },
        "id": "_5zIPlqK8HvL",
        "outputId": "9186a25a-ef11-4603-e63d-bf460bcc4914"
      },
      "source": [
        "plt.figure(figsize=(25, 15)) #specify width and height \r\n",
        "plt.bar(\r\n",
        "forest_fire_per_month['Month'],\r\n",
        "forest_fire_per_month['number'], \r\n",
        "color = (0.5,0.1,0.5,0.6)) \r\n",
        "plt.suptitle('Amazon Forest Fires Over the Months', fontsize=20)\r\n",
        "plt.title('Using Data from Years 1998 - 2017', fontsize=20)  \r\n",
        "plt.xlabel('Month', fontsize=20) \r\n",
        "plt.ylabel('Number of Forest Fires', fontsize=20)\r\n",
        "for i, num in enumerate(forest_fire_per_month['number']):\r\n",
        "    plt.text(\r\n",
        "        i,\r\n",
        "        num + 10000,\r\n",
        "        num,\r\n",
        "        ha='center',\r\n",
        "        fontsize=15)   \r\n",
        "plt.setp(plt.gca().get_xticklabels(),\r\n",
        "         rotation=45,\r\n",
        "         horizontalalignment='right',\r\n",
        "         fontsize=20)\r\n",
        "plt.setp(plt.gca().get_yticklabels(), fontsize=20)"
      ],
      "execution_count": 66,
      "outputs": [
        {
          "output_type": "execute_result",
          "data": {
            "text/plain": [
              "[None,\n",
              " None,\n",
              " None,\n",
              " None,\n",
              " None,\n",
              " None,\n",
              " None,\n",
              " None,\n",
              " None,\n",
              " None,\n",
              " None,\n",
              " None,\n",
              " None,\n",
              " None]"
            ]
          },
          "metadata": {
            "tags": []
          },
          "execution_count": 66
        },
        {
          "output_type": "display_data",
          "data": {
            "image/png": "[encoded data removed]",
            "text/plain": [
              "<Figure size 2500x1500 with 1 Axes>"
            ]
          },
          "metadata": {
            "tags": []
          }
        }
      ]
    }
  ]
}
